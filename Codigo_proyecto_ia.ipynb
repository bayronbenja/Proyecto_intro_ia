{
 "cells": [
  {
   "cell_type": "code",
   "execution_count": 20,
   "id": "346064e7",
   "metadata": {},
   "outputs": [],
   "source": [
    "import pandas as pd"
   ]
  },
  {
   "cell_type": "code",
   "execution_count": 21,
   "id": "275c08e7",
   "metadata": {},
   "outputs": [],
   "source": [
    "data = pd.read_csv('student_habits_performance.csv')"
   ]
  },
  {
   "cell_type": "code",
   "execution_count": 22,
   "id": "c3bfb032",
   "metadata": {},
   "outputs": [
    {
     "data": {
      "text/plain": [
       "Index(['student_id', 'age', 'gender', 'study_hours_per_day',\n",
       "       'social_media_hours', 'netflix_hours', 'part_time_job',\n",
       "       'attendance_percentage', 'sleep_hours', 'diet_quality',\n",
       "       'exercise_frequency', 'parental_education_level', 'internet_quality',\n",
       "       'mental_health_rating', 'extracurricular_participation', 'exam_score'],\n",
       "      dtype='object')"
      ]
     },
     "execution_count": 22,
     "metadata": {},
     "output_type": "execute_result"
    }
   ],
   "source": [
    "data.columns"
   ]
  },
  {
   "cell_type": "code",
   "execution_count": 23,
   "id": "42d34111",
   "metadata": {},
   "outputs": [
    {
     "name": "stdout",
     "output_type": "stream",
     "text": [
      "<class 'pandas.core.frame.DataFrame'>\n",
      "RangeIndex: 1000 entries, 0 to 999\n",
      "Data columns (total 16 columns):\n",
      " #   Column                         Non-Null Count  Dtype  \n",
      "---  ------                         --------------  -----  \n",
      " 0   student_id                     1000 non-null   object \n",
      " 1   age                            1000 non-null   int64  \n",
      " 2   gender                         1000 non-null   object \n",
      " 3   study_hours_per_day            1000 non-null   float64\n",
      " 4   social_media_hours             1000 non-null   float64\n",
      " 5   netflix_hours                  1000 non-null   float64\n",
      " 6   part_time_job                  1000 non-null   object \n",
      " 7   attendance_percentage          1000 non-null   float64\n",
      " 8   sleep_hours                    1000 non-null   float64\n",
      " 9   diet_quality                   1000 non-null   object \n",
      " 10  exercise_frequency             1000 non-null   int64  \n",
      " 11  parental_education_level       909 non-null    object \n",
      " 12  internet_quality               1000 non-null   object \n",
      " 13  mental_health_rating           1000 non-null   int64  \n",
      " 14  extracurricular_participation  1000 non-null   object \n",
      " 15  exam_score                     1000 non-null   float64\n",
      "dtypes: float64(6), int64(3), object(7)\n",
      "memory usage: 125.1+ KB\n"
     ]
    }
   ],
   "source": [
    "data.info()"
   ]
  },
  {
   "cell_type": "code",
   "execution_count": 24,
   "id": "fb23f8f7",
   "metadata": {},
   "outputs": [
    {
     "data": {
      "text/plain": [
       "student_id                        0\n",
       "age                               0\n",
       "gender                            0\n",
       "study_hours_per_day               0\n",
       "social_media_hours                0\n",
       "netflix_hours                     0\n",
       "part_time_job                     0\n",
       "attendance_percentage             0\n",
       "sleep_hours                       0\n",
       "diet_quality                      0\n",
       "exercise_frequency                0\n",
       "parental_education_level         91\n",
       "internet_quality                  0\n",
       "mental_health_rating              0\n",
       "extracurricular_participation     0\n",
       "exam_score                        0\n",
       "dtype: int64"
      ]
     },
     "execution_count": 24,
     "metadata": {},
     "output_type": "execute_result"
    }
   ],
   "source": [
    "data.isnull().sum()"
   ]
  },
  {
   "cell_type": "code",
   "execution_count": null,
   "id": "d1207165",
   "metadata": {},
   "outputs": [],
   "source": []
  },
  {
   "cell_type": "code",
   "execution_count": null,
   "metadata": {},
   "outputs": [],
   "source": []
  },
  {
   "cell_type": "code",
   "execution_count": null,
   "id": "70706af5",
   "metadata": {},
   "outputs": [],
   "source": []
  },
  {
   "cell_type": "code",
   "execution_count": null,
   "id": "9bfe7fdc",
   "metadata": {},
   "outputs": [],
   "source": []
  },
  {
   "cell_type": "code",
   "execution_count": null,
   "id": "b29664ca",
   "metadata": {},
   "outputs": [],
   "source": []
  },
  {
   "cell_type": "code",
   "execution_count": null,
   "metadata": {},
   "outputs": [],
   "source": []
  },
  {
   "cell_type": "code",
   "execution_count": null,
   "metadata": {},
   "outputs": [],
   "source": []
  },
  {
   "cell_type": "code",
   "execution_count": null,
   "id": "66f8333b",
   "metadata": {},
   "outputs": [],
   "source": []
  },
  {
   "cell_type": "code",
   "execution_count": null,
   "id": "8588b505",
   "metadata": {},
   "outputs": [],
   "source": []
  }
 ],
 "metadata": {
  "kernelspec": {
   "display_name": "Proyecto",
   "language": "python",
   "name": "python3"
  },
  "language_info": {
   "codemirror_mode": {
    "name": "ipython",
    "version": 3
   },
   "file_extension": ".py",
   "mimetype": "text/x-python",
   "name": "python",
   "nbconvert_exporter": "python",
   "pygments_lexer": "ipython3",
   "version": "3.10.18"
  }
 },
 "nbformat": 4,
 "nbformat_minor": 5
}
